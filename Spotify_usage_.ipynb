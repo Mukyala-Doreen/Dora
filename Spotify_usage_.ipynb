{
  "nbformat": 4,
  "nbformat_minor": 0,
  "metadata": {
    "colab": {
      "provenance": [],
      "authorship_tag": "ABX9TyM7tnYgiygo8muMQ30p+Urs",
      "include_colab_link": true
    },
    "kernelspec": {
      "name": "python3",
      "display_name": "Python 3"
    },
    "language_info": {
      "name": "python"
    }
  },
  "cells": [
    {
      "cell_type": "markdown",
      "metadata": {
        "id": "view-in-github",
        "colab_type": "text"
      },
      "source": [
        "<a href=\"https://colab.research.google.com/github/Mukyala-Doreen/Dora/blob/main/Spotify_usage_.ipynb\" target=\"_parent\"><img src=\"https://colab.research.google.com/assets/colab-badge.svg\" alt=\"Open In Colab\"/></a>"
      ]
    },
    {
      "cell_type": "code",
      "execution_count": null,
      "metadata": {
        "id": "holp-0gCf3b0"
      },
      "outputs": [],
      "source": []
    },
    {
      "cell_type": "markdown",
      "source": [
        "uploading the dataset"
      ],
      "metadata": {
        "id": "8lIa0Y8df45f"
      }
    },
    {
      "cell_type": "code",
      "source": [
        "from google.colab import files\n",
        "import pandas as pd\n",
        "uploaded = files.upload()\n",
        "uploaded_filename = list(uploaded.keys())[0]"
      ],
      "metadata": {
        "colab": {
          "base_uri": "https://localhost:8080/",
          "height": 73
        },
        "collapsed": true,
        "id": "upKPB_7fijdQ",
        "outputId": "3d57acb9-e5db-44dc-b751-19a5c867df6a"
      },
      "execution_count": 4,
      "outputs": [
        {
          "output_type": "display_data",
          "data": {
            "text/plain": [
              "<IPython.core.display.HTML object>"
            ],
            "text/html": [
              "\n",
              "     <input type=\"file\" id=\"files-e9cee5f5-24a6-489f-a85d-e21bdd57047b\" name=\"files[]\" multiple disabled\n",
              "        style=\"border:none\" />\n",
              "     <output id=\"result-e9cee5f5-24a6-489f-a85d-e21bdd57047b\">\n",
              "      Upload widget is only available when the cell has been executed in the\n",
              "      current browser session. Please rerun this cell to enable.\n",
              "      </output>\n",
              "      <script>// Copyright 2017 Google LLC\n",
              "//\n",
              "// Licensed under the Apache License, Version 2.0 (the \"License\");\n",
              "// you may not use this file except in compliance with the License.\n",
              "// You may obtain a copy of the License at\n",
              "//\n",
              "//      http://www.apache.org/licenses/LICENSE-2.0\n",
              "//\n",
              "// Unless required by applicable law or agreed to in writing, software\n",
              "// distributed under the License is distributed on an \"AS IS\" BASIS,\n",
              "// WITHOUT WARRANTIES OR CONDITIONS OF ANY KIND, either express or implied.\n",
              "// See the License for the specific language governing permissions and\n",
              "// limitations under the License.\n",
              "\n",
              "/**\n",
              " * @fileoverview Helpers for google.colab Python module.\n",
              " */\n",
              "(function(scope) {\n",
              "function span(text, styleAttributes = {}) {\n",
              "  const element = document.createElement('span');\n",
              "  element.textContent = text;\n",
              "  for (const key of Object.keys(styleAttributes)) {\n",
              "    element.style[key] = styleAttributes[key];\n",
              "  }\n",
              "  return element;\n",
              "}\n",
              "\n",
              "// Max number of bytes which will be uploaded at a time.\n",
              "const MAX_PAYLOAD_SIZE = 100 * 1024;\n",
              "\n",
              "function _uploadFiles(inputId, outputId) {\n",
              "  const steps = uploadFilesStep(inputId, outputId);\n",
              "  const outputElement = document.getElementById(outputId);\n",
              "  // Cache steps on the outputElement to make it available for the next call\n",
              "  // to uploadFilesContinue from Python.\n",
              "  outputElement.steps = steps;\n",
              "\n",
              "  return _uploadFilesContinue(outputId);\n",
              "}\n",
              "\n",
              "// This is roughly an async generator (not supported in the browser yet),\n",
              "// where there are multiple asynchronous steps and the Python side is going\n",
              "// to poll for completion of each step.\n",
              "// This uses a Promise to block the python side on completion of each step,\n",
              "// then passes the result of the previous step as the input to the next step.\n",
              "function _uploadFilesContinue(outputId) {\n",
              "  const outputElement = document.getElementById(outputId);\n",
              "  const steps = outputElement.steps;\n",
              "\n",
              "  const next = steps.next(outputElement.lastPromiseValue);\n",
              "  return Promise.resolve(next.value.promise).then((value) => {\n",
              "    // Cache the last promise value to make it available to the next\n",
              "    // step of the generator.\n",
              "    outputElement.lastPromiseValue = value;\n",
              "    return next.value.response;\n",
              "  });\n",
              "}\n",
              "\n",
              "/**\n",
              " * Generator function which is called between each async step of the upload\n",
              " * process.\n",
              " * @param {string} inputId Element ID of the input file picker element.\n",
              " * @param {string} outputId Element ID of the output display.\n",
              " * @return {!Iterable<!Object>} Iterable of next steps.\n",
              " */\n",
              "function* uploadFilesStep(inputId, outputId) {\n",
              "  const inputElement = document.getElementById(inputId);\n",
              "  inputElement.disabled = false;\n",
              "\n",
              "  const outputElement = document.getElementById(outputId);\n",
              "  outputElement.innerHTML = '';\n",
              "\n",
              "  const pickedPromise = new Promise((resolve) => {\n",
              "    inputElement.addEventListener('change', (e) => {\n",
              "      resolve(e.target.files);\n",
              "    });\n",
              "  });\n",
              "\n",
              "  const cancel = document.createElement('button');\n",
              "  inputElement.parentElement.appendChild(cancel);\n",
              "  cancel.textContent = 'Cancel upload';\n",
              "  const cancelPromise = new Promise((resolve) => {\n",
              "    cancel.onclick = () => {\n",
              "      resolve(null);\n",
              "    };\n",
              "  });\n",
              "\n",
              "  // Wait for the user to pick the files.\n",
              "  const files = yield {\n",
              "    promise: Promise.race([pickedPromise, cancelPromise]),\n",
              "    response: {\n",
              "      action: 'starting',\n",
              "    }\n",
              "  };\n",
              "\n",
              "  cancel.remove();\n",
              "\n",
              "  // Disable the input element since further picks are not allowed.\n",
              "  inputElement.disabled = true;\n",
              "\n",
              "  if (!files) {\n",
              "    return {\n",
              "      response: {\n",
              "        action: 'complete',\n",
              "      }\n",
              "    };\n",
              "  }\n",
              "\n",
              "  for (const file of files) {\n",
              "    const li = document.createElement('li');\n",
              "    li.append(span(file.name, {fontWeight: 'bold'}));\n",
              "    li.append(span(\n",
              "        `(${file.type || 'n/a'}) - ${file.size} bytes, ` +\n",
              "        `last modified: ${\n",
              "            file.lastModifiedDate ? file.lastModifiedDate.toLocaleDateString() :\n",
              "                                    'n/a'} - `));\n",
              "    const percent = span('0% done');\n",
              "    li.appendChild(percent);\n",
              "\n",
              "    outputElement.appendChild(li);\n",
              "\n",
              "    const fileDataPromise = new Promise((resolve) => {\n",
              "      const reader = new FileReader();\n",
              "      reader.onload = (e) => {\n",
              "        resolve(e.target.result);\n",
              "      };\n",
              "      reader.readAsArrayBuffer(file);\n",
              "    });\n",
              "    // Wait for the data to be ready.\n",
              "    let fileData = yield {\n",
              "      promise: fileDataPromise,\n",
              "      response: {\n",
              "        action: 'continue',\n",
              "      }\n",
              "    };\n",
              "\n",
              "    // Use a chunked sending to avoid message size limits. See b/62115660.\n",
              "    let position = 0;\n",
              "    do {\n",
              "      const length = Math.min(fileData.byteLength - position, MAX_PAYLOAD_SIZE);\n",
              "      const chunk = new Uint8Array(fileData, position, length);\n",
              "      position += length;\n",
              "\n",
              "      const base64 = btoa(String.fromCharCode.apply(null, chunk));\n",
              "      yield {\n",
              "        response: {\n",
              "          action: 'append',\n",
              "          file: file.name,\n",
              "          data: base64,\n",
              "        },\n",
              "      };\n",
              "\n",
              "      let percentDone = fileData.byteLength === 0 ?\n",
              "          100 :\n",
              "          Math.round((position / fileData.byteLength) * 100);\n",
              "      percent.textContent = `${percentDone}% done`;\n",
              "\n",
              "    } while (position < fileData.byteLength);\n",
              "  }\n",
              "\n",
              "  // All done.\n",
              "  yield {\n",
              "    response: {\n",
              "      action: 'complete',\n",
              "    }\n",
              "  };\n",
              "}\n",
              "\n",
              "scope.google = scope.google || {};\n",
              "scope.google.colab = scope.google.colab || {};\n",
              "scope.google.colab._files = {\n",
              "  _uploadFiles,\n",
              "  _uploadFilesContinue,\n",
              "};\n",
              "})(self);\n",
              "</script> "
            ]
          },
          "metadata": {}
        },
        {
          "output_type": "stream",
          "name": "stdout",
          "text": [
            "Saving spotify_history.csv to spotify_history (3).csv\n"
          ]
        }
      ]
    },
    {
      "cell_type": "markdown",
      "source": [
        "creating data frame"
      ],
      "metadata": {
        "id": "hZOmDXjMjhBK"
      }
    },
    {
      "cell_type": "code",
      "source": [
        "hpdf = pd.read_csv(\"spotify_history.csv\",header =0, sep =\",\")\n",
        "print(hpdf)"
      ],
      "metadata": {
        "colab": {
          "base_uri": "https://localhost:8080/"
        },
        "collapsed": true,
        "id": "Kf3xtxqDjkJE",
        "outputId": "f6a3bf68-cb4c-4402-9148-9b34fe193e97"
      },
      "execution_count": 2,
      "outputs": [
        {
          "output_type": "stream",
          "name": "stdout",
          "text": [
            "             spotify_track_uri                   ts    platform  ms_played  \\\n",
            "0       2J3n32GeLmMjwuAzyhcSNe  2013-07-08 02:44:34  web player       3185   \n",
            "1       1oHxIPqJyvAYHy0PVrDU98  2013-07-08 02:45:37  web player      61865   \n",
            "2       487OPlneJNni3NWC8SYqhW  2013-07-08 02:50:24  web player     285386   \n",
            "3       5IyblF777jLZj1vGHG2UD3  2013-07-08 02:52:40  web player     134022   \n",
            "4       0GgAAB0ZMllFhbNc3mAodO  2013-07-08 03:17:52  web player          0   \n",
            "...                        ...                  ...         ...        ...   \n",
            "149855  4Fz1WWr5o0OrlIcZxcyZtK  2024-12-15 23:06:19     android       1247   \n",
            "149856  0qHMhBZqYb99yhX9BHcIkV  2024-12-15 23:06:21     android       1515   \n",
            "149857  0HHdujGjOZChTrl8lJWEIq  2024-12-15 23:06:22     android       1283   \n",
            "149858  7peh6LUcdNPcMdrSH4JPsM  2024-12-15 23:06:23     android       1306   \n",
            "149859  6iGU74CwXuT4XVepjc9Emf  2024-12-15 23:06:25     android       1893   \n",
            "\n",
            "                                               track_name        artist_name  \\\n",
            "0                                     Say It, Just Say It       The Mowgli's   \n",
            "1           Drinking from the Bottle (feat. Tinie Tempah)      Calvin Harris   \n",
            "2                                             Born To Die       Lana Del Rey   \n",
            "3                                        Off To The Races       Lana Del Rey   \n",
            "4                                               Half Mast  Empire Of The Sun   \n",
            "...                                                   ...                ...   \n",
            "149855                                    On The Way Home         John Mayer   \n",
            "149856             Magical Mystery Tour - Remastered 2009        The Beatles   \n",
            "149857  Stop This Train - Live at the Nokia Theatre, L...         John Mayer   \n",
            "149858             I Don't Trust Myself (With Loving You)         John Mayer   \n",
            "149859                              God Only Knows - Mono     The Beach Boys   \n",
            "\n",
            "                                               album_name reason_start  \\\n",
            "0                                    Waiting For The Dawn     autoplay   \n",
            "1                                               18 Months     clickrow   \n",
            "2                      Born To Die - The Paradise Edition     clickrow   \n",
            "3                      Born To Die - The Paradise Edition    trackdone   \n",
            "4                                      Walking On A Dream     clickrow   \n",
            "...                                                   ...          ...   \n",
            "149855                                    Paradise Valley       fwdbtn   \n",
            "149856                               Magical Mystery Tour       fwdbtn   \n",
            "149857  Where the Light Is: John Mayer Live In Los Ang...       fwdbtn   \n",
            "149858                                          Continuum       fwdbtn   \n",
            "149859                                         Pet Sounds       fwdbtn   \n",
            "\n",
            "       reason_end  shuffle  skipped  \n",
            "0        clickrow    False    False  \n",
            "1        clickrow    False    False  \n",
            "2         unknown    False    False  \n",
            "3        clickrow    False    False  \n",
            "4         nextbtn    False    False  \n",
            "...           ...      ...      ...  \n",
            "149855     fwdbtn     True     True  \n",
            "149856     fwdbtn     True     True  \n",
            "149857     fwdbtn     True     True  \n",
            "149858     fwdbtn     True     True  \n",
            "149859     fwdbtn     True     True  \n",
            "\n",
            "[149860 rows x 11 columns]\n"
          ]
        }
      ]
    },
    {
      "cell_type": "code",
      "source": [
        "print(hpdf.head())"
      ],
      "metadata": {
        "colab": {
          "base_uri": "https://localhost:8080/"
        },
        "collapsed": true,
        "id": "U1OrHDsury2m",
        "outputId": "d836adca-a2fb-432c-811c-865b0755cbef"
      },
      "execution_count": 3,
      "outputs": [
        {
          "output_type": "stream",
          "name": "stdout",
          "text": [
            "        spotify_track_uri                   ts    platform  ms_played  \\\n",
            "0  2J3n32GeLmMjwuAzyhcSNe  2013-07-08 02:44:34  web player       3185   \n",
            "1  1oHxIPqJyvAYHy0PVrDU98  2013-07-08 02:45:37  web player      61865   \n",
            "2  487OPlneJNni3NWC8SYqhW  2013-07-08 02:50:24  web player     285386   \n",
            "3  5IyblF777jLZj1vGHG2UD3  2013-07-08 02:52:40  web player     134022   \n",
            "4  0GgAAB0ZMllFhbNc3mAodO  2013-07-08 03:17:52  web player          0   \n",
            "\n",
            "                                      track_name        artist_name  \\\n",
            "0                            Say It, Just Say It       The Mowgli's   \n",
            "1  Drinking from the Bottle (feat. Tinie Tempah)      Calvin Harris   \n",
            "2                                    Born To Die       Lana Del Rey   \n",
            "3                               Off To The Races       Lana Del Rey   \n",
            "4                                      Half Mast  Empire Of The Sun   \n",
            "\n",
            "                           album_name reason_start reason_end  shuffle  \\\n",
            "0                Waiting For The Dawn     autoplay   clickrow    False   \n",
            "1                           18 Months     clickrow   clickrow    False   \n",
            "2  Born To Die - The Paradise Edition     clickrow    unknown    False   \n",
            "3  Born To Die - The Paradise Edition    trackdone   clickrow    False   \n",
            "4                  Walking On A Dream     clickrow    nextbtn    False   \n",
            "\n",
            "   skipped  \n",
            "0    False  \n",
            "1    False  \n",
            "2    False  \n",
            "3    False  \n",
            "4    False  \n"
          ]
        }
      ]
    },
    {
      "cell_type": "markdown",
      "source": [
        "checking for missing values\n"
      ],
      "metadata": {
        "id": "sE0MV0ASjvbn"
      }
    },
    {
      "cell_type": "code",
      "source": [
        "hpdf.isnull().sum()"
      ],
      "metadata": {
        "colab": {
          "base_uri": "https://localhost:8080/",
          "height": 429
        },
        "collapsed": true,
        "id": "49TOv04fpdAP",
        "outputId": "02d271bd-6e3a-4be0-faae-35e0a07aec41"
      },
      "execution_count": 4,
      "outputs": [
        {
          "output_type": "execute_result",
          "data": {
            "text/plain": [
              "spotify_track_uri      0\n",
              "ts                     0\n",
              "platform               0\n",
              "ms_played              0\n",
              "track_name             0\n",
              "artist_name            0\n",
              "album_name             0\n",
              "reason_start         143\n",
              "reason_end           117\n",
              "shuffle                0\n",
              "skipped                0\n",
              "dtype: int64"
            ],
            "text/html": [
              "<div>\n",
              "<style scoped>\n",
              "    .dataframe tbody tr th:only-of-type {\n",
              "        vertical-align: middle;\n",
              "    }\n",
              "\n",
              "    .dataframe tbody tr th {\n",
              "        vertical-align: top;\n",
              "    }\n",
              "\n",
              "    .dataframe thead th {\n",
              "        text-align: right;\n",
              "    }\n",
              "</style>\n",
              "<table border=\"1\" class=\"dataframe\">\n",
              "  <thead>\n",
              "    <tr style=\"text-align: right;\">\n",
              "      <th></th>\n",
              "      <th>0</th>\n",
              "    </tr>\n",
              "  </thead>\n",
              "  <tbody>\n",
              "    <tr>\n",
              "      <th>spotify_track_uri</th>\n",
              "      <td>0</td>\n",
              "    </tr>\n",
              "    <tr>\n",
              "      <th>ts</th>\n",
              "      <td>0</td>\n",
              "    </tr>\n",
              "    <tr>\n",
              "      <th>platform</th>\n",
              "      <td>0</td>\n",
              "    </tr>\n",
              "    <tr>\n",
              "      <th>ms_played</th>\n",
              "      <td>0</td>\n",
              "    </tr>\n",
              "    <tr>\n",
              "      <th>track_name</th>\n",
              "      <td>0</td>\n",
              "    </tr>\n",
              "    <tr>\n",
              "      <th>artist_name</th>\n",
              "      <td>0</td>\n",
              "    </tr>\n",
              "    <tr>\n",
              "      <th>album_name</th>\n",
              "      <td>0</td>\n",
              "    </tr>\n",
              "    <tr>\n",
              "      <th>reason_start</th>\n",
              "      <td>143</td>\n",
              "    </tr>\n",
              "    <tr>\n",
              "      <th>reason_end</th>\n",
              "      <td>117</td>\n",
              "    </tr>\n",
              "    <tr>\n",
              "      <th>shuffle</th>\n",
              "      <td>0</td>\n",
              "    </tr>\n",
              "    <tr>\n",
              "      <th>skipped</th>\n",
              "      <td>0</td>\n",
              "    </tr>\n",
              "  </tbody>\n",
              "</table>\n",
              "</div><br><label><b>dtype:</b> int64</label>"
            ]
          },
          "metadata": {},
          "execution_count": 4
        }
      ]
    },
    {
      "cell_type": "markdown",
      "source": [
        "check the different data types"
      ],
      "metadata": {
        "id": "Byp3WkCVpzR8"
      }
    },
    {
      "cell_type": "code",
      "source": [
        "hpdf.dtypes"
      ],
      "metadata": {
        "colab": {
          "base_uri": "https://localhost:8080/",
          "height": 429
        },
        "collapsed": true,
        "id": "SfCqg4Vgp4hk",
        "outputId": "a781bbfe-ebaa-4101-bbc4-111e14d522d3"
      },
      "execution_count": 5,
      "outputs": [
        {
          "output_type": "execute_result",
          "data": {
            "text/plain": [
              "spotify_track_uri    object\n",
              "ts                   object\n",
              "platform             object\n",
              "ms_played             int64\n",
              "track_name           object\n",
              "artist_name          object\n",
              "album_name           object\n",
              "reason_start         object\n",
              "reason_end           object\n",
              "shuffle                bool\n",
              "skipped                bool\n",
              "dtype: object"
            ],
            "text/html": [
              "<div>\n",
              "<style scoped>\n",
              "    .dataframe tbody tr th:only-of-type {\n",
              "        vertical-align: middle;\n",
              "    }\n",
              "\n",
              "    .dataframe tbody tr th {\n",
              "        vertical-align: top;\n",
              "    }\n",
              "\n",
              "    .dataframe thead th {\n",
              "        text-align: right;\n",
              "    }\n",
              "</style>\n",
              "<table border=\"1\" class=\"dataframe\">\n",
              "  <thead>\n",
              "    <tr style=\"text-align: right;\">\n",
              "      <th></th>\n",
              "      <th>0</th>\n",
              "    </tr>\n",
              "  </thead>\n",
              "  <tbody>\n",
              "    <tr>\n",
              "      <th>spotify_track_uri</th>\n",
              "      <td>object</td>\n",
              "    </tr>\n",
              "    <tr>\n",
              "      <th>ts</th>\n",
              "      <td>object</td>\n",
              "    </tr>\n",
              "    <tr>\n",
              "      <th>platform</th>\n",
              "      <td>object</td>\n",
              "    </tr>\n",
              "    <tr>\n",
              "      <th>ms_played</th>\n",
              "      <td>int64</td>\n",
              "    </tr>\n",
              "    <tr>\n",
              "      <th>track_name</th>\n",
              "      <td>object</td>\n",
              "    </tr>\n",
              "    <tr>\n",
              "      <th>artist_name</th>\n",
              "      <td>object</td>\n",
              "    </tr>\n",
              "    <tr>\n",
              "      <th>album_name</th>\n",
              "      <td>object</td>\n",
              "    </tr>\n",
              "    <tr>\n",
              "      <th>reason_start</th>\n",
              "      <td>object</td>\n",
              "    </tr>\n",
              "    <tr>\n",
              "      <th>reason_end</th>\n",
              "      <td>object</td>\n",
              "    </tr>\n",
              "    <tr>\n",
              "      <th>shuffle</th>\n",
              "      <td>bool</td>\n",
              "    </tr>\n",
              "    <tr>\n",
              "      <th>skipped</th>\n",
              "      <td>bool</td>\n",
              "    </tr>\n",
              "  </tbody>\n",
              "</table>\n",
              "</div><br><label><b>dtype:</b> object</label>"
            ]
          },
          "metadata": {},
          "execution_count": 5
        }
      ]
    },
    {
      "cell_type": "markdown",
      "source": [
        "clean columns"
      ],
      "metadata": {
        "id": "mWYXc-xnuP9k"
      }
    },
    {
      "cell_type": "code",
      "source": [
        "hpdf.columns = hpdf.columns.str.strip()\n",
        "print(hpdf)"
      ],
      "metadata": {
        "colab": {
          "base_uri": "https://localhost:8080/"
        },
        "collapsed": true,
        "id": "xo2S-INvuPPx",
        "outputId": "0f30a2d8-fba6-472b-f09c-db31a55c8d3c"
      },
      "execution_count": 6,
      "outputs": [
        {
          "output_type": "stream",
          "name": "stdout",
          "text": [
            "             spotify_track_uri                   ts    platform  ms_played  \\\n",
            "0       2J3n32GeLmMjwuAzyhcSNe  2013-07-08 02:44:34  web player       3185   \n",
            "1       1oHxIPqJyvAYHy0PVrDU98  2013-07-08 02:45:37  web player      61865   \n",
            "2       487OPlneJNni3NWC8SYqhW  2013-07-08 02:50:24  web player     285386   \n",
            "3       5IyblF777jLZj1vGHG2UD3  2013-07-08 02:52:40  web player     134022   \n",
            "4       0GgAAB0ZMllFhbNc3mAodO  2013-07-08 03:17:52  web player          0   \n",
            "...                        ...                  ...         ...        ...   \n",
            "149855  4Fz1WWr5o0OrlIcZxcyZtK  2024-12-15 23:06:19     android       1247   \n",
            "149856  0qHMhBZqYb99yhX9BHcIkV  2024-12-15 23:06:21     android       1515   \n",
            "149857  0HHdujGjOZChTrl8lJWEIq  2024-12-15 23:06:22     android       1283   \n",
            "149858  7peh6LUcdNPcMdrSH4JPsM  2024-12-15 23:06:23     android       1306   \n",
            "149859  6iGU74CwXuT4XVepjc9Emf  2024-12-15 23:06:25     android       1893   \n",
            "\n",
            "                                               track_name        artist_name  \\\n",
            "0                                     Say It, Just Say It       The Mowgli's   \n",
            "1           Drinking from the Bottle (feat. Tinie Tempah)      Calvin Harris   \n",
            "2                                             Born To Die       Lana Del Rey   \n",
            "3                                        Off To The Races       Lana Del Rey   \n",
            "4                                               Half Mast  Empire Of The Sun   \n",
            "...                                                   ...                ...   \n",
            "149855                                    On The Way Home         John Mayer   \n",
            "149856             Magical Mystery Tour - Remastered 2009        The Beatles   \n",
            "149857  Stop This Train - Live at the Nokia Theatre, L...         John Mayer   \n",
            "149858             I Don't Trust Myself (With Loving You)         John Mayer   \n",
            "149859                              God Only Knows - Mono     The Beach Boys   \n",
            "\n",
            "                                               album_name reason_start  \\\n",
            "0                                    Waiting For The Dawn     autoplay   \n",
            "1                                               18 Months     clickrow   \n",
            "2                      Born To Die - The Paradise Edition     clickrow   \n",
            "3                      Born To Die - The Paradise Edition    trackdone   \n",
            "4                                      Walking On A Dream     clickrow   \n",
            "...                                                   ...          ...   \n",
            "149855                                    Paradise Valley       fwdbtn   \n",
            "149856                               Magical Mystery Tour       fwdbtn   \n",
            "149857  Where the Light Is: John Mayer Live In Los Ang...       fwdbtn   \n",
            "149858                                          Continuum       fwdbtn   \n",
            "149859                                         Pet Sounds       fwdbtn   \n",
            "\n",
            "       reason_end  shuffle  skipped  \n",
            "0        clickrow    False    False  \n",
            "1        clickrow    False    False  \n",
            "2         unknown    False    False  \n",
            "3        clickrow    False    False  \n",
            "4         nextbtn    False    False  \n",
            "...           ...      ...      ...  \n",
            "149855     fwdbtn     True     True  \n",
            "149856     fwdbtn     True     True  \n",
            "149857     fwdbtn     True     True  \n",
            "149858     fwdbtn     True     True  \n",
            "149859     fwdbtn     True     True  \n",
            "\n",
            "[149860 rows x 11 columns]\n"
          ]
        }
      ]
    },
    {
      "cell_type": "markdown",
      "source": [
        "one hot encoding"
      ],
      "metadata": {
        "id": "tRNmkbdSp804"
      }
    },
    {
      "cell_type": "code",
      "source": [
        "import pandas as pd\n",
        "hpdf2 = pd.get_dummies(hpdf,columns=[\"Platiform\"],drop_first= False)\n",
        "print(hpdf2)"
      ],
      "metadata": {
        "colab": {
          "base_uri": "https://localhost:8080/",
          "height": 176
        },
        "id": "3b1GqucjsouU",
        "outputId": "2e837104-bbba-436f-cad0-d7a324018366"
      },
      "execution_count": 2,
      "outputs": [
        {
          "output_type": "error",
          "ename": "NameError",
          "evalue": "name 'hpdf' is not defined",
          "traceback": [
            "\u001b[0;31m---------------------------------------------------------------------------\u001b[0m",
            "\u001b[0;31mNameError\u001b[0m                                 Traceback (most recent call last)",
            "\u001b[0;32m<ipython-input-2-de283030a698>\u001b[0m in \u001b[0;36m<cell line: 0>\u001b[0;34m()\u001b[0m\n\u001b[1;32m      1\u001b[0m \u001b[0;32mimport\u001b[0m \u001b[0mpandas\u001b[0m \u001b[0;32mas\u001b[0m \u001b[0mpd\u001b[0m\u001b[0;34m\u001b[0m\u001b[0;34m\u001b[0m\u001b[0m\n\u001b[0;32m----> 2\u001b[0;31m \u001b[0mhpdf2\u001b[0m \u001b[0;34m=\u001b[0m \u001b[0mpd\u001b[0m\u001b[0;34m.\u001b[0m\u001b[0mget_dummies\u001b[0m\u001b[0;34m(\u001b[0m\u001b[0mhpdf\u001b[0m\u001b[0;34m,\u001b[0m\u001b[0mcolumns\u001b[0m\u001b[0;34m=\u001b[0m\u001b[0;34m[\u001b[0m\u001b[0;34m\"Platiform\"\u001b[0m\u001b[0;34m]\u001b[0m\u001b[0;34m,\u001b[0m\u001b[0mdrop_first\u001b[0m\u001b[0;34m=\u001b[0m \u001b[0;32mFalse\u001b[0m\u001b[0;34m)\u001b[0m\u001b[0;34m\u001b[0m\u001b[0;34m\u001b[0m\u001b[0m\n\u001b[0m\u001b[1;32m      3\u001b[0m \u001b[0mprint\u001b[0m\u001b[0;34m(\u001b[0m\u001b[0mhpdf2\u001b[0m\u001b[0;34m)\u001b[0m\u001b[0;34m\u001b[0m\u001b[0;34m\u001b[0m\u001b[0m\n",
            "\u001b[0;31mNameError\u001b[0m: name 'hpdf' is not defined"
          ]
        }
      ]
    }
  ]
}